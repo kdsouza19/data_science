{
 "cells": [
  {
   "cell_type": "markdown",
   "id": "4bf02043-fac4-46f3-b880-ddef37c1febc",
   "metadata": {},
   "source": [
    "Python basics: \n",
    "- Variables and data types \n",
    "- Arithmetic, comparison and logic operators\n",
    "- Conditional statements (if, else, elif)\n",
    "- Functions\n",
    "- Iterations (for and white loops, lists with range iteration) "
   ]
  },
  {
   "cell_type": "code",
   "execution_count": 5,
   "id": "e37d87da-9ebd-4b46-a186-71402f69cad3",
   "metadata": {},
   "outputs": [
    {
     "name": "stdout",
     "output_type": "stream",
     "text": [
      "<class 'str'>\n",
      "<class 'int'>\n",
      "<class 'bool'>\n",
      "<class 'float'>\n",
      "My name is Andy. I am 10 years old\n"
     ]
    }
   ],
   "source": [
    "# Variables and data types \n",
    "name = \"Andy\" # \"\" for strings\n",
    "age = 10\n",
    "fav_color = \"blue\"\n",
    "like_apples = True \n",
    "height_in_metres = 1.72\n",
    "\n",
    "# to find data type \n",
    "print(type(name))\n",
    "print(type(age))\n",
    "print(type(like_apples))\n",
    "print(type(height_in_metres))\n",
    "\n",
    "# to display values as part of a string usinf  f string format\n",
    "print(f\"My name is {name}. I am {age} years old\")"
   ]
  },
  {
   "cell_type": "code",
   "execution_count": 19,
   "id": "70304e48-1337-4eb1-9960-6dc0bd5d7524",
   "metadata": {},
   "outputs": [
    {
     "name": "stdin",
     "output_type": "stream",
     "text": [
      "Enter a whole number:  6\n",
      "Enter another whole number:  7\n"
     ]
    },
    {
     "name": "stdout",
     "output_type": "stream",
     "text": [
      "The sum of the numbers : 13\n",
      "The difference of the numbers : -1\n",
      "The product of the numbers : 42\n",
      "The quotient of the numbers : 0\n",
      "the number 6 is  not greater than 50 and not divisible by 5\n"
     ]
    }
   ],
   "source": [
    "#Arithmetic, comparison and logic operators\n",
    "num_1 = int(input(\"Enter a whole number: \"))\n",
    "num_2 = int(input(\"Enter another whole number: \"))\n",
    "\n",
    "# Arithmetic operations \n",
    "print(f\"The sum of the numbers : {num_1 + num_2}\")\n",
    "print(f\"The difference of the numbers : {num_1  - num_2}\")\n",
    "print(f\"The product of the numbers : {num_1 * num_2}\")\n",
    "print(f\"The quotient of the numbers : {num_1 // num_2}\")\n",
    "\n",
    "if num_1 > 50 and num_1//5==0:\n",
    "    print(f\"the number {num_1} is greater than 50 and divisible by 5\")\n",
    "else: \n",
    "    print(f\"the number {num_1} is not greater than 50 and not divisible by 5\")"
   ]
  },
  {
   "cell_type": "code",
   "execution_count": 21,
   "id": "33d0f5ad-d8ed-4b97-91d9-b310bb6a95ab",
   "metadata": {},
   "outputs": [
    {
     "name": "stdin",
     "output_type": "stream",
     "text": [
      "Enter the student's score (0-100):  50\n"
     ]
    },
    {
     "name": "stdout",
     "output_type": "stream",
     "text": [
      "The student's grade is: F\n"
     ]
    }
   ],
   "source": [
    "score = int(input(\"Enter the student's score (0-100): \"))\n",
    "\n",
    "if score >= 90:\n",
    "    grade = \"A\"\n",
    "elif score >= 80:\n",
    "    grade = \"B\"\n",
    "elif score >= 70:\n",
    "    grade = \"C\"\n",
    "else:\n",
    "    grade = \"F\"\n",
    "\n",
    "print(f\"The student's grade is: {grade}\")"
   ]
  },
  {
   "cell_type": "code",
   "execution_count": 23,
   "id": "e8500c71-4178-4e5d-aad5-5d8df670a681",
   "metadata": {},
   "outputs": [
    {
     "name": "stdin",
     "output_type": "stream",
     "text": [
      "Enter a number:  10\n"
     ]
    },
    {
     "name": "stdout",
     "output_type": "stream",
     "text": [
      "10 is not a prime number.\n"
     ]
    }
   ],
   "source": [
    "def is_prime(n):\n",
    "    if n <= 1:\n",
    "        return False\n",
    "    for i in range(2, int(n**0.5) + 1):\n",
    "        if n % i == 0:\n",
    "            return False\n",
    "    return True\n",
    "\n",
    "number = int(input(\"Enter a number: \"))\n",
    "if is_prime(number):\n",
    "    print(f\"{number} is a prime number.\")\n",
    "else:\n",
    "    print(f\"{number} is not a prime number.\")"
   ]
  },
  {
   "cell_type": "code",
   "execution_count": 25,
   "id": "311ded2e-e3e7-4e6b-a3ab-f7f986054542",
   "metadata": {},
   "outputs": [
    {
     "name": "stdin",
     "output_type": "stream",
     "text": [
      "Enter a number to calculate its factorial:  5\n"
     ]
    },
    {
     "name": "stdout",
     "output_type": "stream",
     "text": [
      "The factorial of 5 is 120.\n"
     ]
    }
   ],
   "source": [
    "def factorial(n):\n",
    "    result = 1\n",
    "    for i in range(1, n + 1):\n",
    "        result *= i\n",
    "    return result\n",
    "\n",
    "number = int(input(\"Enter a number to calculate its factorial: \"))\n",
    "print(f\"The factorial of {number} is {factorial(number)}.\")"
   ]
  },
  {
   "cell_type": "code",
   "execution_count": 27,
   "id": "c3494d93-5727-4be5-8cd6-17960c823b51",
   "metadata": {},
   "outputs": [
    {
     "name": "stdout",
     "output_type": "stream",
     "text": [
      "The square of 1 is 1.\n",
      "The square of 2 is 4.\n",
      "The square of 3 is 9.\n",
      "The square of 4 is 16.\n",
      "The square of 5 is 25.\n",
      "The square of 6 is 36.\n",
      "The square of 7 is 49.\n",
      "The square of 8 is 64.\n",
      "The square of 9 is 81.\n",
      "The square of 10 is 100.\n"
     ]
    }
   ],
   "source": [
    "for i in range(1, 11):\n",
    "    print(f\"The square of {i} is {i**2}.\")"
   ]
  },
  {
   "cell_type": "code",
   "execution_count": null,
   "id": "38c93148-671b-44a8-a5e3-e9d9d3ffb5b7",
   "metadata": {},
   "outputs": [],
   "source": []
  }
 ],
 "metadata": {
  "kernelspec": {
   "display_name": "Python 3 (ipykernel)",
   "language": "python",
   "name": "python3"
  },
  "language_info": {
   "codemirror_mode": {
    "name": "ipython",
    "version": 3
   },
   "file_extension": ".py",
   "mimetype": "text/x-python",
   "name": "python",
   "nbconvert_exporter": "python",
   "pygments_lexer": "ipython3",
   "version": "3.12.7"
  }
 },
 "nbformat": 4,
 "nbformat_minor": 5
}
